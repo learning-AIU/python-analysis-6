{
  "nbformat": 4,
  "nbformat_minor": 0,
  "metadata": {
    "colab": {
      "provenance": []
    },
    "kernelspec": {
      "name": "python3",
      "display_name": "Python 3"
    },
    "language_info": {
      "name": "python"
    }
  },
  "cells": [
    {
      "cell_type": "markdown",
      "metadata": {
        "id": "uNYnERwtdVee"
      },
      "source": [
        "# Библиотека Numpy для работы с массивами данных"
      ]
    },
    {
      "cell_type": "markdown",
      "metadata": {
        "id": "W7f58f_SsE6c"
      },
      "source": [
        "Для проведения анализа данных требуются соответствующие инструменты - методы эффективной загрузки, хранения и управления данными в памяти. Эта тема очень обширна: наборы данных могут поступать из самых разных источников и иметь разные форматы, включая коллекции документов, коллекции изображений, коллекции аудиоклипов, коллекции числовых измерений и так далее. Несмотря на эту  неоднородность мы можем рассматривать все данные как массивы чисел.\n",
        "\n",
        "Например, изображения - особенно цифровые изображения - можно рассматривать как двумерные массивы чисел, представляющих яркость пикселей по всей площади изображения. Звуковые клипы можно рассматривать как одномерные массивы, показывающие зависимость интенсивности звука от времени. Текст можно преобразовать различными способами в числовые представления, например, в показатели, представляющие частоту употребления определенных слов или пар слов. Независимо от того, что это за данные, первым шагом к тому, чтобы сделать их доступными для анализа, будет преобразование их в массивы чисел.\n",
        "\n",
        "По этой причине эффективное хранение числовых массивов и манипулирование ими абсолютно необходимы в процессе анализа данных. Одной из основных библиотек в языке Python, предоставляющей такой функционал, является NumPy.\n",
        "\n",
        "NumPy (сокращение от Numerical Python) предоставляет эффективный интерфейс для хранения и работы с массивами данных. В некотором смысле массивы NumPy похожи на встроенный в Python тип списка, но массивы NumPy обеспечивают гораздо более эффективное хранение и операции с данными по мере увеличения размеров массивов. Массивы NumPy образуют ядро ​​почти всей экосистемы инструментов анализа данных в Python, поэтому время, потраченное на обучение эффективному использованию NumPy, будет ценным независимо от того, какой аспект анализа данных вас интересует."
      ]
    },
    {
      "cell_type": "markdown",
      "metadata": {
        "id": "HI9vwBXCtpms"
      },
      "source": [
        "## Массивы, способы их создания"
      ]
    },
    {
      "cell_type": "markdown",
      "metadata": {
        "id": "EHkqaf4zxaKM"
      },
      "source": [
        "Массив (объект типа numpy.ndarray) - это обобщенный многомерный контейнер для хранения однородных данных. Под однородностью данных понимается то, что все элементы в контейнере принадлежат одному и тому же типу (int, float, str и др.)."
      ]
    },
    {
      "cell_type": "markdown",
      "metadata": {
        "id": "80crSgbd0YXw"
      },
      "source": [
        "### Создание массивов на основе списков"
      ]
    },
    {
      "cell_type": "code",
      "metadata": {
        "id": "N80VUy78RX58"
      },
      "source": [
        "import numpy as np"
      ],
      "execution_count": null,
      "outputs": []
    },
    {
      "cell_type": "code",
      "metadata": {
        "id": "wd_-GhcrdEjb",
        "colab": {
          "base_uri": "https://localhost:8080/"
        },
        "outputId": "32a1cdc5-31e8-4c5e-f38a-96dbd5d8aef7"
      },
      "source": [
        "my_list = [1, 5, 4, 3]\n",
        "my_array = np.array(my_list)\n",
        "\n",
        "print('Массив:', my_array)\n",
        "print('Тип хранимых в массиве элементов:', my_array.dtype)"
      ],
      "execution_count": null,
      "outputs": [
        {
          "output_type": "stream",
          "name": "stdout",
          "text": [
            "Массив: [1 5 4 3]\n",
            "Тип хранимых в массиве элементов: int64\n"
          ]
        }
      ]
    },
    {
      "cell_type": "markdown",
      "metadata": {
        "id": "uHZFSX7NR2E-"
      },
      "source": [
        "В отличие от списков в Python массивы numpy могут содержать элементы только одного типа. Поэтому если типы элементов будут различаться, NumPy попытается привести их к одному типу.\n"
      ]
    },
    {
      "cell_type": "code",
      "metadata": {
        "id": "k-MuXlnbtlUD",
        "colab": {
          "base_uri": "https://localhost:8080/"
        },
        "outputId": "f52d252c-d938-4048-b3c4-210f66af2ee2"
      },
      "source": [
        "my_list = [1, 5, 4.2, 3]\n",
        "my_array = np.array(my_list)\n",
        "\n",
        "print('Массив:', my_array)\n",
        "print('Тип хранимых в массиве элементов:', my_array.dtype)"
      ],
      "execution_count": null,
      "outputs": [
        {
          "output_type": "stream",
          "name": "stdout",
          "text": [
            "Массив: [1.  5.  4.2 3. ]\n",
            "Тип хранимых в массиве элементов: float64\n"
          ]
        }
      ]
    },
    {
      "cell_type": "code",
      "metadata": {
        "colab": {
          "base_uri": "https://localhost:8080/"
        },
        "id": "FIICXOhhSasc",
        "outputId": "9744dc97-0942-4947-df39-3cda745fbd51"
      },
      "source": [
        "my_list = [1, '5', 4.2, 3]\n",
        "my_array = np.array(my_list)\n",
        "\n",
        "print('Массив:', my_array)\n",
        "print('Тип хранимых в массиве элементов:', my_array.dtype)"
      ],
      "execution_count": null,
      "outputs": [
        {
          "output_type": "stream",
          "name": "stdout",
          "text": [
            "Массив: ['1' '5' '4.2' '3']\n",
            "Тип хранимых в массиве элементов: <U21\n"
          ]
        }
      ]
    },
    {
      "cell_type": "markdown",
      "metadata": {
        "id": "AOHQ1OGGTaSX"
      },
      "source": [
        "Если в массиве необходимо использовать определенный тип, можно воспользоваться аргументом dtype при создании массива."
      ]
    },
    {
      "cell_type": "code",
      "metadata": {
        "colab": {
          "base_uri": "https://localhost:8080/"
        },
        "id": "K9-QkcRITZtL",
        "outputId": "ba4e47d8-ecea-4d7c-ef16-b51d84fec392"
      },
      "source": [
        "my_list = [1, '5', 4.2, 3]\n",
        "my_array = np.array(my_list, dtype=int)\n",
        "\n",
        "print('Массив:', my_array)\n",
        "print('Тип хранимых в массиве элементов:', my_array.dtype)"
      ],
      "execution_count": null,
      "outputs": [
        {
          "output_type": "stream",
          "name": "stdout",
          "text": [
            "Массив: [1 5 4 3]\n",
            "Тип хранимых в массиве элементов: int64\n"
          ]
        }
      ]
    },
    {
      "cell_type": "markdown",
      "metadata": {
        "id": "I9BaUe4dwYgO"
      },
      "source": [
        "Кроме того в отличие от списков в Python массивы NumPy могут быть многомерными. Такие массивы создаются из вложенных списков."
      ]
    },
    {
      "cell_type": "code",
      "metadata": {
        "id": "C0uMgDcwwYgO",
        "colab": {
          "base_uri": "https://localhost:8080/"
        },
        "outputId": "07ee481e-cf30-4af6-bf31-e96220a209ac"
      },
      "source": [
        "nested_list = [[5, 4, 3], [1, 5, 3]]\n",
        "my_array = np.array(nested_list)\n",
        "\n",
        "print('Массив:\\n', my_array)\n",
        "print('Размерность массива:', my_array.shape)"
      ],
      "execution_count": null,
      "outputs": [
        {
          "output_type": "stream",
          "name": "stdout",
          "text": [
            "Массив:\n",
            " [[5 4 3]\n",
            " [1 5 3]]\n",
            "Размерность массива: (2, 3)\n"
          ]
        }
      ]
    },
    {
      "cell_type": "markdown",
      "metadata": {
        "id": "3GcDmg-dbc-M"
      },
      "source": [
        "### Создание массивов с помощью встроенных функций"
      ]
    },
    {
      "cell_type": "markdown",
      "metadata": {
        "id": "iFxfMIxKb3pg"
      },
      "source": [
        "Функция для создания одномерного массива с целыми числами, изменяющимися с заданным шагом в заданном интервале. Аналогична функции range в Python. Обратите внимание, что конец интервала в создаваемый массив не входит."
      ]
    },
    {
      "cell_type": "code",
      "metadata": {
        "colab": {
          "base_uri": "https://localhost:8080/"
        },
        "id": "OKvSzujqbcc9",
        "outputId": "5b674a04-f8ab-41b7-baa3-47a90c6e6c81"
      },
      "source": [
        "my_array_1 = np.arange(5)\n",
        "my_array_2 = np.arange(2, 12, 3)\n",
        "my_array_3 = np.arange(10, 2, -2)\n",
        "\n",
        "print(my_array_1)\n",
        "print(my_array_2)\n",
        "print(my_array_3)"
      ],
      "execution_count": null,
      "outputs": [
        {
          "output_type": "stream",
          "name": "stdout",
          "text": [
            "[0 1 2 3 4]\n",
            "[ 2  5  8 11]\n",
            "[10  8  6  4]\n"
          ]
        }
      ]
    },
    {
      "cell_type": "markdown",
      "metadata": {
        "id": "jXYhRqrYd6d5"
      },
      "source": [
        "Похожая функция для вещественных чисел. Вместо шага изменения числа принимает кол-во элементов в интервале (по умолчанию равно 100). Обратите внимание, что конец интервала входит в создаваемый массив."
      ]
    },
    {
      "cell_type": "code",
      "metadata": {
        "colab": {
          "base_uri": "https://localhost:8080/"
        },
        "id": "yTFN-_Dmd3e2",
        "outputId": "9e8a6536-6d12-4683-e9ba-b60c8e5fbd95"
      },
      "source": [
        "my_array_1 = np.linspace(1, 2)\n",
        "my_array_2 = np.linspace(1, 4, 5)\n",
        "my_array_3 = np.linspace(10, 5, 3)\n",
        "\n",
        "print(my_array_1)\n",
        "print(my_array_2)\n",
        "print(my_array_3)"
      ],
      "execution_count": null,
      "outputs": [
        {
          "output_type": "stream",
          "name": "stdout",
          "text": [
            "[1.         1.02040816 1.04081633 1.06122449 1.08163265 1.10204082\n",
            " 1.12244898 1.14285714 1.16326531 1.18367347 1.20408163 1.2244898\n",
            " 1.24489796 1.26530612 1.28571429 1.30612245 1.32653061 1.34693878\n",
            " 1.36734694 1.3877551  1.40816327 1.42857143 1.44897959 1.46938776\n",
            " 1.48979592 1.51020408 1.53061224 1.55102041 1.57142857 1.59183673\n",
            " 1.6122449  1.63265306 1.65306122 1.67346939 1.69387755 1.71428571\n",
            " 1.73469388 1.75510204 1.7755102  1.79591837 1.81632653 1.83673469\n",
            " 1.85714286 1.87755102 1.89795918 1.91836735 1.93877551 1.95918367\n",
            " 1.97959184 2.        ]\n",
            "[1.   1.75 2.5  3.25 4.  ]\n",
            "[10.   7.5  5. ]\n"
          ]
        }
      ]
    },
    {
      "cell_type": "markdown",
      "metadata": {
        "id": "WAIBeLYRfcRE"
      },
      "source": [
        "Функции для создания массивов с заданной размерностью:\n",
        "* с нулями,\n",
        "* с единицами,\n",
        "* с заданным числом."
      ]
    },
    {
      "cell_type": "code",
      "metadata": {
        "colab": {
          "base_uri": "https://localhost:8080/"
        },
        "id": "_02Qfq2Efb6s",
        "outputId": "00f99ef7-4b16-4809-fc55-43a8d252fa5c"
      },
      "source": [
        "zeros = np.zeros((2, 2))\n",
        "ones = np.ones((2, 2, 3))\n",
        "fill = np.full((2, 4), fill_value=5)\n",
        "\n",
        "for array in [zeros, ones, fill]:\n",
        "  print('Массив:\\n', array)\n",
        "  print('Размерность массива:', array.shape)\n",
        "  print('*' * 10)"
      ],
      "execution_count": null,
      "outputs": [
        {
          "output_type": "stream",
          "name": "stdout",
          "text": [
            "Массив:\n",
            " [[0. 0.]\n",
            " [0. 0.]]\n",
            "Размерность массива: (2, 2)\n",
            "**********\n",
            "Массив:\n",
            " [[[1. 1. 1.]\n",
            "  [1. 1. 1.]]\n",
            "\n",
            " [[1. 1. 1.]\n",
            "  [1. 1. 1.]]]\n",
            "Размерность массива: (2, 2, 3)\n",
            "**********\n",
            "Массив:\n",
            " [[5 5 5 5]\n",
            " [5 5 5 5]]\n",
            "Размерность массива: (2, 4)\n",
            "**********\n"
          ]
        }
      ]
    },
    {
      "cell_type": "markdown",
      "metadata": {
        "id": "WWm4vIT1h8ap"
      },
      "source": [
        "Функции для создания массивов с размерностью как у передаваемого в функцию массива."
      ]
    },
    {
      "cell_type": "code",
      "metadata": {
        "colab": {
          "base_uri": "https://localhost:8080/"
        },
        "id": "SsswE5alhzMO",
        "outputId": "c093c37c-606b-4ac0-f0c6-476bd2003daf"
      },
      "source": [
        "zeros_new = np.zeros_like(ones)\n",
        "ones_new = np.ones_like(fill)\n",
        "fill_new = np.full_like(zeros, fill_value=1.3)\n",
        "\n",
        "for array in [zeros_new, ones_new, fill_new]:\n",
        "  print('Массив:\\n', array)\n",
        "  print('Размерность массива:', array.shape)\n",
        "  print('*' * 10)"
      ],
      "execution_count": null,
      "outputs": [
        {
          "output_type": "stream",
          "name": "stdout",
          "text": [
            "Массив:\n",
            " [[[0. 0. 0.]\n",
            "  [0. 0. 0.]]\n",
            "\n",
            " [[0. 0. 0.]\n",
            "  [0. 0. 0.]]]\n",
            "Размерность массива: (2, 2, 3)\n",
            "**********\n",
            "Массив:\n",
            " [[1 1 1 1]\n",
            " [1 1 1 1]]\n",
            "Размерность массива: (2, 4)\n",
            "**********\n",
            "Массив:\n",
            " [[1.3 1.3]\n",
            " [1.3 1.3]]\n",
            "Размерность массива: (2, 2)\n",
            "**********\n"
          ]
        }
      ]
    },
    {
      "cell_type": "markdown",
      "metadata": {
        "id": "O15_3RJ1inta"
      },
      "source": [
        "Функция для создания диагональных матриц (с единицами на главной диагонали). Допускает смещение диагонали матрицы."
      ]
    },
    {
      "cell_type": "code",
      "metadata": {
        "colab": {
          "base_uri": "https://localhost:8080/"
        },
        "id": "z9Eu2zRbim6l",
        "outputId": "58187e20-c7b7-4c2c-cb88-91e18a0d8aef"
      },
      "source": [
        "diag_1 = np.eye(3)\n",
        "diag_2 = np.eye(4, M=3)\n",
        "diag_3 = np.eye(4, k=1)\n",
        "\n",
        "for array in [diag_1, diag_2, diag_3]:\n",
        "  print('Массив:\\n', array)\n",
        "  print('Размерность массива:', array.shape)\n",
        "  print('*' * 10)"
      ],
      "execution_count": null,
      "outputs": [
        {
          "output_type": "stream",
          "name": "stdout",
          "text": [
            "Массив:\n",
            " [[1. 0. 0.]\n",
            " [0. 1. 0.]\n",
            " [0. 0. 1.]]\n",
            "Размерность массива: (3, 3)\n",
            "**********\n",
            "Массив:\n",
            " [[1. 0. 0.]\n",
            " [0. 1. 0.]\n",
            " [0. 0. 1.]\n",
            " [0. 0. 0.]]\n",
            "Размерность массива: (4, 3)\n",
            "**********\n",
            "Массив:\n",
            " [[0. 1. 0. 0.]\n",
            " [0. 0. 1. 0.]\n",
            " [0. 0. 0. 1.]\n",
            " [0. 0. 0. 0.]]\n",
            "Размерность массива: (4, 4)\n",
            "**********\n"
          ]
        }
      ]
    },
    {
      "cell_type": "markdown",
      "metadata": {
        "id": "FvOqsBjQlfO_"
      },
      "source": [
        "Из случайных значений"
      ]
    },
    {
      "cell_type": "markdown",
      "metadata": {
        "id": "Y5ftJXH3lhby"
      },
      "source": [
        "## Типы данных в массивах NumPy"
      ]
    },
    {
      "cell_type": "markdown",
      "metadata": {
        "id": "mTGk5IsmpKEF"
      },
      "source": [
        "| Тип | Код типа | Описание|\n",
        "|--|--|--|\n",
        "| ``int8``| i1 | Знаковое 8-разрядное (1 байт) целое (-128 to 127) | \n",
        "| ``int16`` | i2 | Знаковое 8-разрядное (2 байтa) целое (-32768 to 32767) |\n",
        "| ``int32`` | i4 | Знаковое 8-разрядное (4 байтa) целое (-2147483648 to 2147483647) |\n",
        "| ``int64`` | i8 | Знаковое 8-разрядное (8 байт) целое (-9223372036854775808 to 9223372036854775807) | \n",
        "| ``uint8`` | u1 | Беззнаковое 8-разрядное (1 байт) целое (0 to 255) | \n",
        "| ``uint16``| u2 | Беззнаковое 8-разрядное (2 байтa) целое (0 to 65535) | \n",
        "| ``uint32``| u4 | Беззнаковое 8-разрядное (4 байтa) целое (0 to 4294967295) | \n",
        "| ``uint64``| u8 | Беззнаковое 8-разрядное (8 байт) целое (0 to 18446744073709551615) | \n",
        "| ``bool_``| ? | Булев тип (True или False) |\n",
        "| ``float16`` | f2 | С плавающей точкой половинной точности | \n",
        "| ``float32`` | f4 | Стандартный тип с плавающей точкой одинарной точности. Совместим с типом float языка C | \n",
        "| ``float64`` | f8 или d | Стандартный тип с плавающей точкой двойной точности. Совместим с типом double языка C и типом float языка Python |\n",
        "| ``float128`` | f16 | С плавающей точкой расширенной точности |\n",
        "| ``complex64`` | c8 | Комплексное число, вещественная и мнимая часть которого представлена типом float32 | \n",
        "| ``complex128`` | c16 | Комплексное число, вещественная и мнимая часть которого представлена типом float64 | \n",
        "| ``complex256`` | c32 | Комплексное число, вещественная и мнимая часть которого представлена типом float128 |\n",
        "| ``object`` | O | Тип объекта Python |\n",
        "| ``string_`` | S | Тип строки фиксированной длины (1 байт на символ). Пример кода - строка длиной 10 имеет тип S10 |\n",
        "| ``unicode_`` | U | Тип Unicode-строки фиксированной длины (количество байтов на символ зависит от платформы). Пример кода - строка длиной 10 имеет тип U10 |"
      ]
    },
    {
      "cell_type": "markdown",
      "metadata": {
        "id": "GVWxHEUgfzDm"
      },
      "source": [
        "Метод массивов для преобразования типов."
      ]
    },
    {
      "cell_type": "code",
      "metadata": {
        "colab": {
          "base_uri": "https://localhost:8080/"
        },
        "id": "5JfE27AifjwW",
        "outputId": "f948346d-1093-4e59-8617-48c2298a265b"
      },
      "source": [
        "array = np.array([1, 2, 3, 4, 5])\n",
        "new_array = array.astype(np.float64)\n",
        "print('Тип', array.dtype, 'сменился на', new_array.dtype)"
      ],
      "execution_count": null,
      "outputs": [
        {
          "output_type": "stream",
          "name": "stdout",
          "text": [
            "Тип int64 сменился на float64\n"
          ]
        }
      ]
    },
    {
      "cell_type": "code",
      "metadata": {
        "colab": {
          "base_uri": "https://localhost:8080/"
        },
        "id": "BKf_vFKEffNu",
        "outputId": "082ca193-789f-4547-e17b-d4d29e823ce1"
      },
      "source": [
        "array = np.array([-3, 1, 0, 4.4, 5])\n",
        "print('Массив:', array, 'Тип:', array.dtype)\n",
        "\n",
        "for typ in [np.int32, np.uint8, np.bool_, np.unicode_]:\n",
        "  new_array = array.astype(typ)\n",
        "  print('Массив:', new_array, 'Тип:', new_array.dtype)"
      ],
      "execution_count": null,
      "outputs": [
        {
          "output_type": "stream",
          "name": "stdout",
          "text": [
            "Массив: [-3.   1.   0.   4.4  5. ] Тип: float64\n",
            "Массив: [-3  1  0  4  5] Тип: int32\n",
            "Массив: [253   1   0   4   5] Тип: uint8\n",
            "Массив: [ True  True False  True  True] Тип: bool\n",
            "Массив: ['-3.0' '1.0' '0.0' '4.4' '5.0'] Тип: <U32\n"
          ]
        }
      ]
    },
    {
      "cell_type": "markdown",
      "metadata": {
        "id": "jBSNEOmcDRm6"
      },
      "source": [
        "## Индексирование"
      ]
    },
    {
      "cell_type": "markdown",
      "metadata": {
        "id": "tVCAaXfDEcAq"
      },
      "source": [
        "Индексирование позволяет обращаться к данным в массиве ndarray по индексам и получать некоторое подмножество его значений с использованием операции \"среза\" данных. "
      ]
    },
    {
      "cell_type": "markdown",
      "metadata": {
        "id": "7sC6cCX_GX3k"
      },
      "source": [
        "### Индексация массивов: доступ к отдельным элементам"
      ]
    },
    {
      "cell_type": "markdown",
      "metadata": {
        "id": "qYShqWCWGj8M"
      },
      "source": [
        "Если Вы знакомы со стандартной индексацией списков Python, индексация в NumPy покажется Вам знакомой. В одномерном массиве к i-му значению (отсчет от нуля) можно получить доступ, указав желаемый индекс в квадратных скобках, как и в списках Python."
      ]
    },
    {
      "cell_type": "code",
      "metadata": {
        "colab": {
          "base_uri": "https://localhost:8080/"
        },
        "id": "2P8aQ-g-GXag",
        "outputId": "c6aec597-604c-4083-b051-d3840bc337a1"
      },
      "source": [
        "x = np.array([3, 4, 5, 6, 8])\n",
        "print(x[1])"
      ],
      "execution_count": null,
      "outputs": [
        {
          "output_type": "stream",
          "name": "stdout",
          "text": [
            "4\n"
          ]
        }
      ]
    },
    {
      "cell_type": "markdown",
      "metadata": {
        "id": "SUObtYPFGshE"
      },
      "source": [
        "Для индексации с конца массива можно использовать отрицательные индексы."
      ]
    },
    {
      "cell_type": "code",
      "metadata": {
        "colab": {
          "base_uri": "https://localhost:8080/"
        },
        "id": "RJhKWbKcGr7n",
        "outputId": "5e7f25e1-1a98-4238-da1e-3b47d9eb8a98"
      },
      "source": [
        "print(x[-1])"
      ],
      "execution_count": null,
      "outputs": [
        {
          "output_type": "stream",
          "name": "stdout",
          "text": [
            "8\n"
          ]
        }
      ]
    },
    {
      "cell_type": "markdown",
      "metadata": {
        "id": "vGoRSGGZHDWH"
      },
      "source": [
        "В многомерном массиве к элементам можно получить доступ с помощью кортежа индексов, разделенных запятыми."
      ]
    },
    {
      "cell_type": "code",
      "metadata": {
        "colab": {
          "base_uri": "https://localhost:8080/"
        },
        "id": "o7EyFZR6HEy1",
        "outputId": "390cd227-3bd9-471d-c941-761cea7f7209"
      },
      "source": [
        "x = np.array([[3, 4, 5], [1, 3, 2]])\n",
        "print(x[1, -1])"
      ],
      "execution_count": null,
      "outputs": [
        {
          "output_type": "stream",
          "name": "stdout",
          "text": [
            "2\n"
          ]
        }
      ]
    },
    {
      "cell_type": "markdown",
      "metadata": {
        "id": "Eli5pYUIHJb-"
      },
      "source": [
        "Значения также можно изменить, используя любую из указанных выше обозначений индекса."
      ]
    },
    {
      "cell_type": "code",
      "metadata": {
        "colab": {
          "base_uri": "https://localhost:8080/"
        },
        "id": "bskMVh0-HJIU",
        "outputId": "4cc8d383-d928-43ff-b817-371446ecabb4"
      },
      "source": [
        "x[0, 0] = 12\n",
        "print(x)"
      ],
      "execution_count": null,
      "outputs": [
        {
          "output_type": "stream",
          "name": "stdout",
          "text": [
            "[[12  4  5]\n",
            " [ 1  3  2]]\n"
          ]
        }
      ]
    },
    {
      "cell_type": "markdown",
      "metadata": {
        "id": "Lb81POjBHPQX"
      },
      "source": [
        "Необходимо иметь в виду, что массивы NumPy имеют фиксированный тип. Это означает, что при попытке вставки значения с плавающей запятой в целочисленный массив, значение будет автоматически усечено."
      ]
    },
    {
      "cell_type": "code",
      "metadata": {
        "colab": {
          "base_uri": "https://localhost:8080/"
        },
        "id": "Mv9kW7KMHV5n",
        "outputId": "e935c01e-538e-43b1-f1ff-28e0b6d5e195"
      },
      "source": [
        "x[0, 0] = 3.14159\n",
        "print(x)"
      ],
      "execution_count": null,
      "outputs": [
        {
          "output_type": "stream",
          "name": "stdout",
          "text": [
            "[[3 4 5]\n",
            " [1 3 2]]\n"
          ]
        }
      ]
    },
    {
      "cell_type": "markdown",
      "metadata": {
        "id": "5W23m6GEHViU"
      },
      "source": [
        "### Индексация массивов: доступ к подмассивам"
      ]
    },
    {
      "cell_type": "markdown",
      "metadata": {
        "id": "ryhF58fSHn91"
      },
      "source": [
        "Точно так же, как мы можем использовать квадратные скобки для доступа к отдельным элементам массива, мы также можем использовать их для доступа к подмассивам с нотацией среза, отмеченной знаком двоеточия (:). Синтаксис использования срезов в NumPy соответствует синтаксису стандартного списка Python; чтобы получить доступ к фрагменту массива x, можно использовать следующую конструкцию:\n",
        "``` python\n",
        "x[start:end:step]\n",
        "```\n",
        "Если какие-либо из этих значений не указаны, они по умолчанию имеют значения start = 0, stop = размер вдоль измерения, step = 1. Мы рассмотрим доступ к подмассивам в одном измерении и в нескольких измерениях."
      ]
    },
    {
      "cell_type": "markdown",
      "metadata": {
        "id": "5gWw9p1hHkk9"
      },
      "source": [
        "#### Одномерные подмассивы"
      ]
    },
    {
      "cell_type": "markdown",
      "metadata": {
        "id": "XKjTfBtEIpkB"
      },
      "source": []
    },
    {
      "cell_type": "code",
      "metadata": {
        "id": "gzSePgdME7V0",
        "colab": {
          "base_uri": "https://localhost:8080/"
        },
        "outputId": "e1c8bad2-41df-441d-ff7f-09add2830bc7"
      },
      "source": [
        "x = np.arange(10)\n",
        "print(x, 'исходный массив')\n",
        "print(x[:5], 'пять первых элементов')\n",
        "print(x[5:], 'элементы после индекса 5')\n",
        "print(x[4:7], 'средний подмассив')\n",
        "print(x[::2], 'доступ к элементам через 1')\n",
        "print(x[1::2], 'доступ к элементам через 1, начиная с индекса 1')\n",
        "print(x[::-1], 'все элементы в обратном порядке')\n",
        "print(x[5::-2], 'элементы в обратном порядке через 1, начиная с индекса 5')"
      ],
      "execution_count": null,
      "outputs": [
        {
          "output_type": "stream",
          "name": "stdout",
          "text": [
            "[0 1 2 3 4 5 6 7 8 9] исходный массив\n",
            "[0 1 2 3 4] пять первых элементов\n",
            "[5 6 7 8 9] элементы после индекса 5\n",
            "[4 5 6] средний подмассив\n",
            "[0 2 4 6 8] доступ к элементам через 1\n",
            "[1 3 5 7 9] доступ к элементам через 1, начиная с индекса 1\n",
            "[9 8 7 6 5 4 3 2 1 0] все элементы в обратном порядке\n",
            "[5 3 1] элементы в обратном порядке через 1, начиная с индекса 5\n"
          ]
        }
      ]
    },
    {
      "cell_type": "markdown",
      "metadata": {
        "id": "ZCjhJ9DiKU8Z"
      },
      "source": [
        "#### Многомерные подмассивы"
      ]
    },
    {
      "cell_type": "markdown",
      "metadata": {
        "id": "U872aCQpK6Fh"
      },
      "source": [
        "Аналогичным образом работают многомерные срезы, при этом несколько срезов разделяются запятыми."
      ]
    },
    {
      "cell_type": "code",
      "metadata": {
        "id": "jUZ9B1pFE7V0",
        "colab": {
          "base_uri": "https://localhost:8080/"
        },
        "outputId": "784fb1cd-c9c7-42d1-a1d5-f7a833726f95"
      },
      "source": [
        "x =  np.array([[1, 2, 3, 4], [5, 6, 7, 8], [9, 10, 11, 12]])\n",
        "print(x[:2, :3])\n",
        "print(x[:3, ::2])\n",
        "print(x[::-1, ::-1])"
      ],
      "execution_count": null,
      "outputs": [
        {
          "output_type": "stream",
          "name": "stdout",
          "text": [
            "[[1 2 3]\n",
            " [5 6 7]]\n",
            "[[ 1  3]\n",
            " [ 5  7]\n",
            " [ 9 11]]\n",
            "[[12 11 10  9]\n",
            " [ 8  7  6  5]\n",
            " [ 4  3  2  1]]\n"
          ]
        }
      ]
    },
    {
      "cell_type": "markdown",
      "metadata": {
        "id": "WIQZPQwkPNlK"
      },
      "source": [
        "#### Доступ к строкам и колонкам"
      ]
    },
    {
      "cell_type": "markdown",
      "metadata": {
        "id": "J4GayktwRqnH"
      },
      "source": [
        "Одна из часто используемых процедур - это доступ к отдельным строкам или столбцам массива. Это можно сделать, объединив индексацию и нарезку, используя пустой фрагмент, отмеченный одним двоеточием (:)."
      ]
    },
    {
      "cell_type": "code",
      "metadata": {
        "id": "pbmI-D_PE7V0",
        "colab": {
          "base_uri": "https://localhost:8080/"
        },
        "outputId": "4320aff4-ec8a-4a15-90fa-06195188041c"
      },
      "source": [
        "print(x[:, 0]) # первая колонка\n",
        "print(x[0, :]) # первая строка\n",
        "print(x[0]) # эквивалент x[0, :]"
      ],
      "execution_count": null,
      "outputs": [
        {
          "output_type": "stream",
          "name": "stdout",
          "text": [
            "[1 5 9]\n",
            "[1 2 3 4]\n",
            "[1 2 3 4]\n"
          ]
        }
      ]
    },
    {
      "cell_type": "markdown",
      "metadata": {
        "id": "oi56jPCfSJz2"
      },
      "source": [
        "#### Подмассивы как отображения без копирования"
      ]
    },
    {
      "cell_type": "markdown",
      "metadata": {
        "id": "T4DnnhGzSXsw"
      },
      "source": [
        "Одна важная и чрезвычайно полезная вещь, которую нужно знать о срезах массива, заключается в том, что они возвращают *отображения*, а не *копии* данных массива.\n",
        "Это одна из областей, в которой срезы массива NumPy отличаются от срезов списков Python: в списках срезы будут копиями.\n",
        "Рассмотрим ранее использованный массив."
      ]
    },
    {
      "cell_type": "code",
      "metadata": {
        "id": "oWkX4_aJE7V1",
        "colab": {
          "base_uri": "https://localhost:8080/"
        },
        "outputId": "c9deecdd-79d6-4d83-b23f-4e5817fc6f58"
      },
      "source": [
        "print(x)"
      ],
      "execution_count": null,
      "outputs": [
        {
          "output_type": "stream",
          "name": "stdout",
          "text": [
            "[[ 1  2  3  4]\n",
            " [ 5  6  7  8]\n",
            " [ 9 10 11 12]]\n"
          ]
        }
      ]
    },
    {
      "cell_type": "markdown",
      "metadata": {
        "id": "ltYK9rtXSzuu"
      },
      "source": [
        "Извлекаем из него подмассив 2 × 2."
      ]
    },
    {
      "cell_type": "code",
      "metadata": {
        "id": "SOWs5VTAE7V1",
        "colab": {
          "base_uri": "https://localhost:8080/"
        },
        "outputId": "0438a63a-3cac-478d-c85d-eb5a47f1fd1c"
      },
      "source": [
        "x_sub = x[:2, :2]\n",
        "print(x_sub)"
      ],
      "execution_count": null,
      "outputs": [
        {
          "output_type": "stream",
          "name": "stdout",
          "text": [
            "[[1 2]\n",
            " [5 6]]\n"
          ]
        }
      ]
    },
    {
      "cell_type": "markdown",
      "metadata": {
        "id": "UAgi8uPSS_wm"
      },
      "source": [
        "Если изменить этот подмассив, можно увидеть, что исходный массив тоже изменился."
      ]
    },
    {
      "cell_type": "code",
      "metadata": {
        "colab": {
          "base_uri": "https://localhost:8080/"
        },
        "id": "UGLZi6YzTHqM",
        "outputId": "6f59f8df-f53f-42d9-fa97-2f4453b1ed40"
      },
      "source": [
        "x_sub[0, 0] = 99\n",
        "print(x_sub)\n",
        "print(x)"
      ],
      "execution_count": null,
      "outputs": [
        {
          "output_type": "stream",
          "name": "stdout",
          "text": [
            "[[99  2]\n",
            " [ 5  6]]\n",
            "[[99  2  3  4]\n",
            " [ 5  6  7  8]\n",
            " [ 9 10 11 12]]\n"
          ]
        }
      ]
    },
    {
      "cell_type": "markdown",
      "metadata": {
        "id": "AsG4Zo91E7V1"
      },
      "source": [
        "Такое поведение может быть очень полезным: когда мы работаем с большими наборами данных, мы можем получать доступ и обрабатывать части этих наборов данных без необходимости копировать базовый буфер данных."
      ]
    },
    {
      "cell_type": "markdown",
      "metadata": {
        "id": "Miizyc2oTXAy"
      },
      "source": [
        "### Создание копий массивов"
      ]
    },
    {
      "cell_type": "markdown",
      "metadata": {
        "id": "hUdhPPX3Tcf8"
      },
      "source": [
        "Несмотря на удобство использования отображений массива, иногда полезно вместо этого скопировать данные в массив. Проще всего это сделать с помощью метода copy."
      ]
    },
    {
      "cell_type": "code",
      "metadata": {
        "colab": {
          "base_uri": "https://localhost:8080/"
        },
        "id": "xNTGwTeq16po",
        "outputId": "0913fea8-f26b-43a0-c21d-dd4358c5db43"
      },
      "source": [
        "x = np.random.randint(5, size=(5, 5))\n",
        "print(x)"
      ],
      "execution_count": null,
      "outputs": [
        {
          "output_type": "stream",
          "name": "stdout",
          "text": [
            "[[4 4 3 2 0]\n",
            " [3 0 4 3 1]\n",
            " [1 0 1 1 4]\n",
            " [4 3 0 2 1]\n",
            " [4 3 2 2 4]]\n"
          ]
        }
      ]
    },
    {
      "cell_type": "code",
      "metadata": {
        "colab": {
          "base_uri": "https://localhost:8080/"
        },
        "id": "nQMn8qG_Tujy",
        "outputId": "57a4a3a5-c458-47bb-d177-d89237bb85c2"
      },
      "source": [
        "x_sub_copy = x[:2, :2].copy()\n",
        "print(x_sub_copy)"
      ],
      "execution_count": null,
      "outputs": [
        {
          "output_type": "stream",
          "name": "stdout",
          "text": [
            "[[4 4]\n",
            " [3 0]]\n"
          ]
        }
      ]
    },
    {
      "cell_type": "markdown",
      "metadata": {
        "id": "XGjYsvv4T88q"
      },
      "source": [
        "Если изменить этот подмассив, исходный массив не будет затронут."
      ]
    },
    {
      "cell_type": "code",
      "metadata": {
        "colab": {
          "base_uri": "https://localhost:8080/"
        },
        "id": "HOz9wjsjUQMC",
        "outputId": "a9bbce48-2788-4145-d9a9-411e34828cc5"
      },
      "source": [
        "x_sub_copy[0, 0] = 42\n",
        "print(x_sub_copy)"
      ],
      "execution_count": null,
      "outputs": [
        {
          "output_type": "stream",
          "name": "stdout",
          "text": [
            "[[42  4]\n",
            " [ 3  0]]\n"
          ]
        }
      ]
    },
    {
      "cell_type": "code",
      "metadata": {
        "colab": {
          "base_uri": "https://localhost:8080/"
        },
        "id": "oddSkI6SUSfy",
        "outputId": "37f0b29c-ae62-4fc6-f555-1b199c3bc773"
      },
      "source": [
        "print(x)"
      ],
      "execution_count": null,
      "outputs": [
        {
          "output_type": "stream",
          "name": "stdout",
          "text": [
            "[[4 4 3 2 0]\n",
            " [3 0 4 3 1]\n",
            " [1 0 1 1 4]\n",
            " [4 3 0 2 1]\n",
            " [4 3 2 2 4]]\n"
          ]
        }
      ]
    },
    {
      "cell_type": "markdown",
      "metadata": {
        "id": "O9j4HXuPgcrj"
      },
      "source": [
        "### Булева индексация"
      ]
    },
    {
      "cell_type": "markdown",
      "metadata": {
        "id": "qODsCwqG0UVz"
      },
      "source": [
        "Для индексации можно использовать бинарные маски, показывающие какие элементы должны войти в извлекаемый подмассив, а какие нет."
      ]
    },
    {
      "cell_type": "code",
      "metadata": {
        "colab": {
          "base_uri": "https://localhost:8080/"
        },
        "id": "bEbXo2ZX0f1M",
        "outputId": "7e6b8cb7-fa8b-4c56-be8b-997183b7055f"
      },
      "source": [
        "print(x)"
      ],
      "execution_count": null,
      "outputs": [
        {
          "output_type": "stream",
          "name": "stdout",
          "text": [
            "[[4 4 3 2 0]\n",
            " [3 0 4 3 1]\n",
            " [1 0 1 1 4]\n",
            " [4 3 0 2 1]\n",
            " [4 3 2 2 4]]\n"
          ]
        }
      ]
    },
    {
      "cell_type": "code",
      "metadata": {
        "id": "mFxK3j6pgUub",
        "colab": {
          "base_uri": "https://localhost:8080/"
        },
        "outputId": "d86fb73a-8b7f-4cfd-cff2-793b9948cda3"
      },
      "source": [
        "bool_mask = (x > 5) & (x < 40) \n",
        "print(bool_mask)"
      ],
      "execution_count": null,
      "outputs": [
        {
          "output_type": "stream",
          "name": "stdout",
          "text": [
            "[[False False False False False]\n",
            " [False False False False False]\n",
            " [False False False False False]\n",
            " [False False False False False]\n",
            " [False False False False False]]\n"
          ]
        }
      ]
    },
    {
      "cell_type": "code",
      "metadata": {
        "id": "laII6QlCh60A",
        "colab": {
          "base_uri": "https://localhost:8080/"
        },
        "outputId": "f3028391-1357-4e54-98f8-7eb7bbd5d74f"
      },
      "source": [
        "print(\"Выбор элементов, удовлетворяющих условию:\")\n",
        "print(x[bool_mask])"
      ],
      "execution_count": null,
      "outputs": [
        {
          "output_type": "stream",
          "name": "stdout",
          "text": [
            "Выбор элементов, удовлетворяющих условию:\n",
            "[]\n"
          ]
        }
      ]
    },
    {
      "cell_type": "code",
      "metadata": {
        "id": "XccvvqJZiJgY",
        "colab": {
          "base_uri": "https://localhost:8080/"
        },
        "outputId": "c005ffe2-f9ab-40da-a4d0-1ab7bd5a9a9e"
      },
      "source": [
        "print(\"Замена элементов, не удовлетворяющих условию:\")\n",
        "x_cut = x.copy()\n",
        "x_cut[~bool_mask] = 3\n",
        "print('- c использованием булевой индексации:')\n",
        "print(x_cut)\n",
        "print('- с использованием функции np.where:')\n",
        "print(np.where(bool_mask, x, 3))"
      ],
      "execution_count": null,
      "outputs": [
        {
          "output_type": "stream",
          "name": "stdout",
          "text": [
            "Замена элементов, не удовлетворяющих условию:\n",
            "- c использованием булевой индексации:\n",
            "[[3 3 3 3 3]\n",
            " [3 3 3 3 3]\n",
            " [3 3 3 3 3]\n",
            " [3 3 3 3 3]\n",
            " [3 3 3 3 3]]\n",
            "- с использованием функции np.where:\n",
            "[[3 3 3 3 3]\n",
            " [3 3 3 3 3]\n",
            " [3 3 3 3 3]\n",
            " [3 3 3 3 3]\n",
            " [3 3 3 3 3]]\n"
          ]
        }
      ]
    },
    {
      "cell_type": "markdown",
      "metadata": {
        "id": "f8BpkksEglvX"
      },
      "source": [
        "### Индексирование с использованием целочисленных массивов"
      ]
    },
    {
      "cell_type": "code",
      "metadata": {
        "id": "TMWUW1GC6RI3"
      },
      "source": [
        "np.random.seed(1000) # для воспроизводимости результатов"
      ],
      "execution_count": null,
      "outputs": []
    },
    {
      "cell_type": "code",
      "metadata": {
        "id": "oNT18Thlj_8V",
        "colab": {
          "base_uri": "https://localhost:8080/"
        },
        "outputId": "7ea2ba88-0b34-4dc5-de38-36729151b9eb"
      },
      "source": [
        "arr = np.random.randint(5, size=(5, 5))\n",
        "print('Исходная матрица:\\n', arr)"
      ],
      "execution_count": null,
      "outputs": [
        {
          "output_type": "stream",
          "name": "stdout",
          "text": [
            "Исходная матрица:\n",
            " [[3 0 3 4 1]\n",
            " [0 1 0 1 4]\n",
            " [3 4 4 2 2]\n",
            " [1 4 4 2 1]\n",
            " [0 2 4 4 2]]\n"
          ]
        }
      ]
    },
    {
      "cell_type": "code",
      "metadata": {
        "id": "Bc0W3s1qkVOB",
        "colab": {
          "base_uri": "https://localhost:8080/"
        },
        "outputId": "ce677960-3392-42a2-d0f2-a592b8a39c87"
      },
      "source": [
        "print('Подвыборка из строк 0, 2, 4:')\n",
        "print(arr[[0, 2, 4]])"
      ],
      "execution_count": null,
      "outputs": [
        {
          "output_type": "stream",
          "name": "stdout",
          "text": [
            "Подвыборка из строк 0, 2, 4:\n",
            "[[3 0 3 4 1]\n",
            " [3 4 4 2 2]\n",
            " [0 2 4 4 2]]\n"
          ]
        }
      ]
    },
    {
      "cell_type": "code",
      "metadata": {
        "id": "zwCVEi89lJRG",
        "colab": {
          "base_uri": "https://localhost:8080/"
        },
        "outputId": "f46345e7-9c5d-4cd5-a4f5-adb8b4269c8a"
      },
      "source": [
        "print('Подвыборка из столбцов 0, 2, 4:')\n",
        "print(arr[:, [0, 2, 4]])"
      ],
      "execution_count": null,
      "outputs": [
        {
          "output_type": "stream",
          "name": "stdout",
          "text": [
            "Подвыборка из столбцов 0, 2, 4:\n",
            "[[3 3 1]\n",
            " [0 0 4]\n",
            " [3 4 2]\n",
            " [1 4 1]\n",
            " [0 4 2]]\n"
          ]
        }
      ]
    },
    {
      "cell_type": "code",
      "metadata": {
        "id": "8AdN_a6Flb8o",
        "colab": {
          "base_uri": "https://localhost:8080/"
        },
        "outputId": "75749edb-e0f5-4d5e-abcd-a3185eed8f4f"
      },
      "source": [
        "print('Подвыборка элементов, стоящих на пересечении соответствующих строк и столбцов с номерами 0, 2, 4:')\n",
        "print(arr[[0, 2, 4], [0, 2, 4]])"
      ],
      "execution_count": null,
      "outputs": [
        {
          "output_type": "stream",
          "name": "stdout",
          "text": [
            "Подвыборка элементов, стоящих на пересечении соответствующих строк и столбцов с номерами 0, 2, 4:\n",
            "[3 4 2]\n"
          ]
        }
      ]
    },
    {
      "cell_type": "markdown",
      "metadata": {
        "id": "tsQHvJhpUZiS"
      },
      "source": [
        "## Изменение формы массивов"
      ]
    },
    {
      "cell_type": "markdown",
      "metadata": {
        "id": "U1ZJdyLmUiuq"
      },
      "source": [
        "Другой полезный тип операции - изменение формы массивов. Самый гибкий способ сделать это - использовать метод изменения формы. Например, если вы хотите поместить числа от 1 до 9 в сетку 3 × 3, вы можете сделать следующее."
      ]
    },
    {
      "cell_type": "code",
      "metadata": {
        "colab": {
          "base_uri": "https://localhost:8080/"
        },
        "id": "6rCFzKtrUn67",
        "outputId": "8582bade-bcb8-4896-d612-f395756aefff"
      },
      "source": [
        "grid = np.arange(1, 10).reshape((3, 3))\n",
        "print(grid)"
      ],
      "execution_count": null,
      "outputs": [
        {
          "output_type": "stream",
          "name": "stdout",
          "text": [
            "[[1 2 3]\n",
            " [4 5 6]\n",
            " [7 8 9]]\n"
          ]
        }
      ]
    },
    {
      "cell_type": "markdown",
      "metadata": {
        "id": "3mCJWEu6Uufy"
      },
      "source": [
        "Обратите внимание, что для этого размер исходного массива должен соответствовать размеру измененного массива (речь идет о кол-ве элементов).\n",
        "\n",
        "Другая распространенная операция изменения формы - это преобразование одномерного массива в двумерную матрицу строк или столбцов. Это можно сделать с помощью метода reshape или, что проще, с помощью ключевого слова newaxis в операции среза."
      ]
    },
    {
      "cell_type": "code",
      "metadata": {
        "colab": {
          "base_uri": "https://localhost:8080/"
        },
        "id": "QQb7CapwVbLH",
        "outputId": "6a221c63-a43e-49f8-90b7-1a7c2f4df8ce"
      },
      "source": [
        "x = np.array([1, 2, 3])\n",
        "print(x)\n",
        "print(x.reshape((1, 3))) # создаем вектор-строку\n",
        "print(x.reshape((3, 1))) # создаем вектор-столбец\n",
        "print(x[:, np.newaxis]) # создаем вектор-столбец с помощью объекта np.newaxis"
      ],
      "execution_count": null,
      "outputs": [
        {
          "output_type": "stream",
          "name": "stdout",
          "text": [
            "[1 2 3]\n",
            "[[1 2 3]]\n",
            "[[1]\n",
            " [2]\n",
            " [3]]\n",
            "[[1]\n",
            " [2]\n",
            " [3]]\n"
          ]
        }
      ]
    },
    {
      "cell_type": "markdown",
      "metadata": {
        "id": "djjRNZgNcrgg"
      },
      "source": [
        "Иногда возникает необходимость \"схлопнуть\" многомерный массив, т.е. преобразовать в одномерный. Для этого используется функция ravel."
      ]
    },
    {
      "cell_type": "code",
      "metadata": {
        "colab": {
          "base_uri": "https://localhost:8080/"
        },
        "id": "UJvxETBibTay",
        "outputId": "5effdb90-b5b6-4983-a9a8-6a7df80e5e19"
      },
      "source": [
        "grid = np.arange(1, 10).reshape((3, 3))\n",
        "print(grid)\n",
        "print('Схлопываем строка за строкой:')\n",
        "print(grid.ravel()) \n",
        "print('Схлопываем столбец за столбцом:')\n",
        "print(grid.ravel(order='F')) "
      ],
      "execution_count": null,
      "outputs": [
        {
          "output_type": "stream",
          "name": "stdout",
          "text": [
            "[[1 2 3]\n",
            " [4 5 6]\n",
            " [7 8 9]]\n",
            "Схлопываем строка за строкой:\n",
            "[1 2 3 4 5 6 7 8 9]\n",
            "Схлопываем столбец за столбцом:\n",
            "[1 4 7 2 5 8 3 6 9]\n"
          ]
        }
      ]
    },
    {
      "cell_type": "markdown",
      "metadata": {
        "id": "CF9uCd1gV-SS"
      },
      "source": [
        "## Объединение и разделение массивов"
      ]
    },
    {
      "cell_type": "markdown",
      "metadata": {
        "id": "fUiQfxPpWEDD"
      },
      "source": [
        "Все предыдущие процедуры работали с отдельными массивами. Также возможно объединить несколько массивов в один и, наоборот, разбить один массив на несколько массивов."
      ]
    },
    {
      "cell_type": "markdown",
      "metadata": {
        "id": "f7g4nwAxWHQo"
      },
      "source": [
        "### Объединение массивов"
      ]
    },
    {
      "cell_type": "markdown",
      "metadata": {
        "id": "41idQ19uWQ3b"
      },
      "source": [
        "Конкатенация или объединение двух массивов в NumPy в основном выполняется с использованием функций np.concatenate, np.vstack и np.hstack. \n",
        "\n",
        "Функция np.concatenate принимает кортеж или список массивов в качестве первого аргумента."
      ]
    },
    {
      "cell_type": "code",
      "metadata": {
        "colab": {
          "base_uri": "https://localhost:8080/"
        },
        "id": "6rlJkAjjVbJd",
        "outputId": "80426eda-892c-422e-ad1c-aced30c64a1a"
      },
      "source": [
        "x = np.array([1, 2, 3])\n",
        "y = np.array([3, 2, 1])\n",
        "print(np.concatenate([x, y]))"
      ],
      "execution_count": null,
      "outputs": [
        {
          "output_type": "stream",
          "name": "stdout",
          "text": [
            "[1 2 3 3 2 1]\n"
          ]
        }
      ]
    },
    {
      "cell_type": "markdown",
      "metadata": {
        "id": "dognxf5OU_7D"
      },
      "source": [
        "Можно объединить более двух массивов одновременно."
      ]
    },
    {
      "cell_type": "code",
      "metadata": {
        "colab": {
          "base_uri": "https://localhost:8080/"
        },
        "id": "d-nihwRiWf7m",
        "outputId": "ca52652e-7564-4ebc-e653-3858cca504af"
      },
      "source": [
        "z = np.array([99, 99, 99])\n",
        "print(np.concatenate([x, y, z]))"
      ],
      "execution_count": null,
      "outputs": [
        {
          "output_type": "stream",
          "name": "stdout",
          "text": [
            "[ 1  2  3  3  2  1 99 99 99]\n"
          ]
        }
      ]
    },
    {
      "cell_type": "markdown",
      "metadata": {
        "id": "kqgHGEcMWeae"
      },
      "source": [
        "Это работает и для двумерных массивов."
      ]
    },
    {
      "cell_type": "code",
      "metadata": {
        "colab": {
          "base_uri": "https://localhost:8080/"
        },
        "id": "EmxE9d1mWfR7",
        "outputId": "a782ccd2-53e4-4768-caa5-7f83d316872f"
      },
      "source": [
        "grid = np.array([[1, 2, 3], [4, 5, 6]])\n",
        "print(grid)\n",
        "print('Объединение вдоль нулевой оси:')\n",
        "print(np.concatenate([grid, grid]))\n",
        "print('Объединение вдоль первой оси:')\n",
        "print(np.concatenate([grid, grid], axis=1))"
      ],
      "execution_count": null,
      "outputs": [
        {
          "output_type": "stream",
          "name": "stdout",
          "text": [
            "[[1 2 3]\n",
            " [4 5 6]]\n",
            "Объединение вдоль нулевой оси:\n",
            "[[1 2 3]\n",
            " [4 5 6]\n",
            " [1 2 3]\n",
            " [4 5 6]]\n",
            "Объединение вдоль первой оси:\n",
            "[[1 2 3 1 2 3]\n",
            " [4 5 6 4 5 6]]\n"
          ]
        }
      ]
    },
    {
      "cell_type": "markdown",
      "metadata": {
        "id": "Nw22O8VRW916"
      },
      "source": [
        "Для работы с массивами смешанной размерности более удобно использование функций np.vstack (вертикальный стек) и np.hstack (горизонтальный стек)."
      ]
    },
    {
      "cell_type": "code",
      "metadata": {
        "colab": {
          "base_uri": "https://localhost:8080/"
        },
        "id": "9qBL4RinXQcX",
        "outputId": "b860ce7b-5f54-4e30-bea3-4e96b431e53e"
      },
      "source": [
        "x = np.array([1, 2, 3])\n",
        "y = np.array([[99], [99]])\n",
        "grid = np.array([[9, 8, 7], [6, 5, 4]])\n",
        "\n",
        "print(x)\n",
        "print(y)\n",
        "print(grid)\n",
        "print('Объединение вдоль вертикали:')\n",
        "print(np.vstack([x, grid]))\n",
        "print('Объединение вдоль горизонтали:')\n",
        "print(np.hstack([grid, y]))"
      ],
      "execution_count": null,
      "outputs": [
        {
          "output_type": "stream",
          "name": "stdout",
          "text": [
            "[1 2 3]\n",
            "[[99]\n",
            " [99]]\n",
            "[[9 8 7]\n",
            " [6 5 4]]\n",
            "Объединение вдоль вертикали:\n",
            "[[1 2 3]\n",
            " [9 8 7]\n",
            " [6 5 4]]\n",
            "Объединение вдоль горизонтали:\n",
            "[[ 9  8  7 99]\n",
            " [ 6  5  4 99]]\n"
          ]
        }
      ]
    },
    {
      "cell_type": "markdown",
      "metadata": {
        "id": "ObBnXztcdgDv"
      },
      "source": [
        "Для объединения нескольких N-мерных массивов в (N + 1)-мерный массив используется функция stack."
      ]
    },
    {
      "cell_type": "code",
      "metadata": {
        "colab": {
          "base_uri": "https://localhost:8080/"
        },
        "id": "7QwhL1lpd01b",
        "outputId": "48aef668-13b9-4ada-ecbf-906c6ad7a31a"
      },
      "source": [
        "a1 = np.arange(1, 13).reshape(3, -1)\n",
        "a2 = np.arange(13, 25).reshape(3, -1)\n",
        "\n",
        "print('Массив 1:')\n",
        "print(a1)\n",
        "print('Массив 2:')\n",
        "print(a2)\n",
        "print('*' * 10)\n",
        "\n",
        "print('Соединение по оси 0:')\n",
        "a3_0 = np.stack((a1, a2))\n",
        "print(a3_0)\n",
        "print('Размер:', a3_0.shape)\n",
        "print('*' * 10)\n",
        "\n",
        "print('Соединение по оси 1:')\n",
        "a3_1 = np.stack((a1, a2), axis=1)\n",
        "print(a3_1)\n",
        "print('Размер:', a3_1.shape)\n",
        "print('*' * 10)\n",
        "\n",
        "print('Соединение по оси 2:')\n",
        "a3_2 = np.stack((a1, a2), axis=2)\n",
        "print(a3_2)\n",
        "print('Размер:', a3_2.shape)\n",
        "print('*' * 10)"
      ],
      "execution_count": null,
      "outputs": [
        {
          "output_type": "stream",
          "name": "stdout",
          "text": [
            "Массив 1:\n",
            "[[ 1  2  3  4]\n",
            " [ 5  6  7  8]\n",
            " [ 9 10 11 12]]\n",
            "Массив 2:\n",
            "[[13 14 15 16]\n",
            " [17 18 19 20]\n",
            " [21 22 23 24]]\n",
            "**********\n",
            "Соединение по оси 0:\n",
            "[[[ 1  2  3  4]\n",
            "  [ 5  6  7  8]\n",
            "  [ 9 10 11 12]]\n",
            "\n",
            " [[13 14 15 16]\n",
            "  [17 18 19 20]\n",
            "  [21 22 23 24]]]\n",
            "Размер: (2, 3, 4)\n",
            "**********\n",
            "Соединение по оси 1:\n",
            "[[[ 1  2  3  4]\n",
            "  [13 14 15 16]]\n",
            "\n",
            " [[ 5  6  7  8]\n",
            "  [17 18 19 20]]\n",
            "\n",
            " [[ 9 10 11 12]\n",
            "  [21 22 23 24]]]\n",
            "Размер: (3, 2, 4)\n",
            "**********\n",
            "Соединение по оси 2:\n",
            "[[[ 1 13]\n",
            "  [ 2 14]\n",
            "  [ 3 15]\n",
            "  [ 4 16]]\n",
            "\n",
            " [[ 5 17]\n",
            "  [ 6 18]\n",
            "  [ 7 19]\n",
            "  [ 8 20]]\n",
            "\n",
            " [[ 9 21]\n",
            "  [10 22]\n",
            "  [11 23]\n",
            "  [12 24]]]\n",
            "Размер: (3, 4, 2)\n",
            "**********\n"
          ]
        }
      ]
    },
    {
      "cell_type": "markdown",
      "metadata": {
        "id": "RtG0Fur1XFNi"
      },
      "source": [
        "### Разделение массивов"
      ]
    },
    {
      "cell_type": "markdown",
      "metadata": {
        "id": "4VNyaOI4XcZO"
      },
      "source": [
        "Противоположностью конкатенации является разделение, которое реализуется функциями np.split, np.hsplit и np.vsplit. Для каждого из них можно передать список индексов, определяющих точки разделения."
      ]
    },
    {
      "cell_type": "code",
      "metadata": {
        "colab": {
          "base_uri": "https://localhost:8080/"
        },
        "id": "gTCNZhfIXiAh",
        "outputId": "17b5362f-f30d-4087-b91b-f7dd7e148d42"
      },
      "source": [
        "x = [1, 2, 3, 99, 99, 3, 2, 1]\n",
        "x1, x2, x3 = np.split(x, [3, 5])\n",
        "print(x1, x2, x3)"
      ],
      "execution_count": null,
      "outputs": [
        {
          "output_type": "stream",
          "name": "stdout",
          "text": [
            "[1 2 3] [99 99] [3 2 1]\n"
          ]
        }
      ]
    },
    {
      "cell_type": "markdown",
      "metadata": {
        "id": "LvyB7cw5XnMX"
      },
      "source": [
        "Обратите внимание, что N точек разделения создают N + 1 подмассив. \n",
        "\n",
        "Функции np.hsplit и np.vsplit работают аналогичным образом. "
      ]
    },
    {
      "cell_type": "code",
      "metadata": {
        "colab": {
          "base_uri": "https://localhost:8080/"
        },
        "id": "XFvdPNT-X0aZ",
        "outputId": "ecabe74b-03e2-42a0-f292-3c61cdf32886"
      },
      "source": [
        "grid = np.arange(16).reshape((4, 4))\n",
        "grid"
      ],
      "execution_count": null,
      "outputs": [
        {
          "output_type": "execute_result",
          "data": {
            "text/plain": [
              "array([[ 0,  1,  2,  3],\n",
              "       [ 4,  5,  6,  7],\n",
              "       [ 8,  9, 10, 11],\n",
              "       [12, 13, 14, 15]])"
            ]
          },
          "metadata": {},
          "execution_count": 47
        }
      ]
    },
    {
      "cell_type": "code",
      "metadata": {
        "colab": {
          "base_uri": "https://localhost:8080/"
        },
        "id": "P6PObl5lX2xv",
        "outputId": "5a2a691b-72ae-4d4e-c007-7d2755200598"
      },
      "source": [
        "upper, lower = np.vsplit(grid, [2])\n",
        "print(upper)\n",
        "print(lower)"
      ],
      "execution_count": null,
      "outputs": [
        {
          "output_type": "stream",
          "name": "stdout",
          "text": [
            "[[0 1 2 3]\n",
            " [4 5 6 7]]\n",
            "[[ 8  9 10 11]\n",
            " [12 13 14 15]]\n"
          ]
        }
      ]
    },
    {
      "cell_type": "code",
      "metadata": {
        "colab": {
          "base_uri": "https://localhost:8080/"
        },
        "id": "b9xRhrnRX5RL",
        "outputId": "6b8ea1ba-226b-4446-acc6-fd1c0cbf9b54"
      },
      "source": [
        "left, right = np.hsplit(grid, [2])\n",
        "print(left)\n",
        "print(right)"
      ],
      "execution_count": null,
      "outputs": [
        {
          "output_type": "stream",
          "name": "stdout",
          "text": [
            "[[ 0  1]\n",
            " [ 4  5]\n",
            " [ 8  9]\n",
            " [12 13]]\n",
            "[[ 2  3]\n",
            " [ 6  7]\n",
            " [10 11]\n",
            " [14 15]]\n"
          ]
        }
      ]
    },
    {
      "cell_type": "markdown",
      "metadata": {
        "id": "Qpsvt_wT5iL7"
      },
      "source": [
        "## Операции с массивами"
      ]
    },
    {
      "cell_type": "markdown",
      "metadata": {
        "id": "XyL919zID5uN"
      },
      "source": [
        "### Бинарные операции"
      ]
    },
    {
      "cell_type": "code",
      "metadata": {
        "id": "MR0LIyzo-nLG",
        "colab": {
          "base_uri": "https://localhost:8080/"
        },
        "outputId": "36c0c8b8-2dee-465b-e4cb-d41aa9541383"
      },
      "source": [
        "arr1 = np.array([[2., 2., 2.], [2., 2., 2.]])\n",
        "arr2 = np.array([[2., -2., 3.], [-2., 2., -3.]])\n",
        "\n",
        "print('Массив 1:\\n', arr1)\n",
        "print('*' * 10)\n",
        "print('Массив 2:\\n', arr2)\n",
        "print('*' * 10 + '\\n', 'Поэлементное умножение:\\n', arr1 * arr2)\n",
        "print('*' * 10 + '\\n', 'Поэлементное сложение:\\n', arr1 + arr2)\n",
        "print('*' * 10 + '\\n', 'Поэлементное деление:\\n', arr1 / arr2)\n",
        "print('*' * 10 + '\\n', 'Поэлементная разность:\\n', arr1 - arr2)\n",
        "print('*' * 10 + '\\n', 'Поэлементное сравнение:\\n', arr1 < arr2)"
      ],
      "execution_count": null,
      "outputs": [
        {
          "output_type": "stream",
          "name": "stdout",
          "text": [
            "Массив 1:\n",
            " [[2. 2. 2.]\n",
            " [2. 2. 2.]]\n",
            "**********\n",
            "Массив 2:\n",
            " [[ 2. -2.  3.]\n",
            " [-2.  2. -3.]]\n",
            "**********\n",
            " Поэлементное умножение:\n",
            " [[ 4. -4.  6.]\n",
            " [-4.  4. -6.]]\n",
            "**********\n",
            " Поэлементное сложение:\n",
            " [[ 4.  0.  5.]\n",
            " [ 0.  4. -1.]]\n",
            "**********\n",
            " Поэлементное деление:\n",
            " [[ 1.         -1.          0.66666667]\n",
            " [-1.          1.         -0.66666667]]\n",
            "**********\n",
            " Поэлементная разность:\n",
            " [[ 0.  4. -1.]\n",
            " [ 4.  0.  5.]]\n",
            "**********\n",
            " Поэлементное сравнение:\n",
            " [[False False  True]\n",
            " [False False False]]\n"
          ]
        }
      ]
    },
    {
      "cell_type": "markdown",
      "metadata": {
        "id": "0oJFXPEgGe9C"
      },
      "source": [
        "Таблица бинарных операций"
      ]
    },
    {
      "cell_type": "markdown",
      "metadata": {
        "id": "jjdQVsiKGhcy"
      },
      "source": [
        "| Функция | Описание |\n",
        "|--|--|\n",
        "| add | Сложить соответственные элементы массивов |\n",
        "| subtract | Вычесть элементы второго массива из соответственных элементов первого |\n",
        "| multiply | Перемножить соответственные элементы массивов |\n",
        "| divide, floor_divide | Деление и деление с отбрасыванием остатка |\n",
        "| power | Возвести элементы первого массива в степени, указанные во втором массиве |\n",
        "| maximum, fmax | Поэлементный максимум. Функция fmax игнорирует значения NaN |\n",
        "| minimum, fmin | Поэлементный минимум. Функция fmin игнорирует значения NaN |\n",
        "| mod | Поэлементный модуль (остаток от деления) |\n",
        "| copysign | Копировать знаки значений второго массива в соответственные элементы первого массива |\n",
        "| greater, greater_equal, less, less_equal, equal, not_equal | Поэлементное сравнение, возвращается булев массив. Эквивалентны инфиксным операторам >, <=, !, ==, != |\n",
        "| logical_and, logical_or, logical_xor | Вычислить логические значения истинности логических операций. Эквивалентны инфиксным операторам &, &#124;, ^ |"
      ]
    },
    {
      "cell_type": "markdown",
      "metadata": {
        "id": "RJuQpvj-GjZU"
      },
      "source": [
        "### Унарные операции"
      ]
    },
    {
      "cell_type": "code",
      "metadata": {
        "id": "cA-WVSQXLTN4",
        "colab": {
          "base_uri": "https://localhost:8080/"
        },
        "outputId": "1b9ccc53-4cc9-4fd5-a1cc-94ee00bcfb23"
      },
      "source": [
        "print('Операции со скалярами:')\n",
        "print(arr1 * 5)\n",
        "print(arr1 / 5)\n",
        "print(arr1 + 5)\n",
        "print(arr1 - 5)"
      ],
      "execution_count": null,
      "outputs": [
        {
          "output_type": "stream",
          "name": "stdout",
          "text": [
            "Операции со скалярами:\n",
            "[[10. 10. 10.]\n",
            " [10. 10. 10.]]\n",
            "[[0.4 0.4 0.4]\n",
            " [0.4 0.4 0.4]]\n",
            "[[7. 7. 7.]\n",
            " [7. 7. 7.]]\n",
            "[[-3. -3. -3.]\n",
            " [-3. -3. -3.]]\n"
          ]
        }
      ]
    },
    {
      "cell_type": "code",
      "metadata": {
        "colab": {
          "base_uri": "https://localhost:8080/"
        },
        "id": "V6Rd6Q1OBvlf",
        "outputId": "0541cc4e-f886-43e2-da0b-dc45a8854368"
      },
      "source": [
        "arr = np.array([1.3, 1.2, 2.0, np.nan, 3.0, 1.0])\n",
        "print('Массив:\\n', arr)\n",
        "print('Применение функции isnan:\\n', np.isnan(arr))\n",
        "print('Применение функции floor:\\n', np.floor(arr))\n",
        "print('Применение функции exp:\\n', np.exp(arr))"
      ],
      "execution_count": null,
      "outputs": [
        {
          "output_type": "stream",
          "name": "stdout",
          "text": [
            "Массив:\n",
            " [1.3 1.2 2.  nan 3.  1. ]\n",
            "Применение функции isnan:\n",
            " [False False False  True False False]\n",
            "Применение функции floor:\n",
            " [ 1.  1.  2. nan  3.  1.]\n",
            "Применение функции exp:\n",
            " [ 3.66929667  3.32011692  7.3890561          nan 20.08553692  2.71828183]\n"
          ]
        }
      ]
    },
    {
      "cell_type": "markdown",
      "metadata": {
        "id": "90RbU8qF77Dq"
      },
      "source": [
        "Таблица унарных операций"
      ]
    },
    {
      "cell_type": "markdown",
      "metadata": {
        "id": "Trmq7eot8HKa"
      },
      "source": [
        "| Функция | Описание |\n",
        "|--|--|\n",
        "| abs, fabs | Вычислить абсолютное значение целых, вещественных или комплексных элементов массива. Для вещественных данных fabs работает быстрее |\n",
        "| sqrt | Вычислить квадратный корень из каждого элемента. Эквивалентно arr ** 0.5 |\n",
        "| square | Вычислить квадрат каждого элемента. Эквивалентно arr ** 2 |\n",
        "| exp | Вычислить экспоненту е каждого элемента |\n",
        "| log, log10, log2, log1p | Натуральный (по основанию е), десятичный, двоичный логарифм и функция log (1 + x) соответственно\n",
        "| sign | Вычислить знак каждого элемента: 1 (для положительных чисел), О (для нуля) или -1 (для отрицательных чисел) |\n",
        "| ceil | Вычислить для каждого элемента наименьшее целое число, не меньшее его |\n",
        "| floor | Вычислить для каждого элемента наибольшее целое число, не большее его |\n",
        "| rint | Округлить элементы до ближайшего целого с сохранением dtype |\n",
        "| modf | Вернуть дробные и целые части массива в виде отдельных массивов |\n",
        "| isnan | Вернуть булев массив, показывающий, какие значения являются NaN (пропущенными значениями) |\n",
        "| isfinite, isinf | Вернуть булев массив, показывающий, какие элементы являются конечными (не inf и не NaN) или бесконечными соответственно |\n",
        "| cos, cosh, sin, sinh, tan, tanh | Обычные и гиперболические тригонометрические функции |\n",
        "| arccos, arccosh, arcsin, arcsinh, arctan, arctanh | Обратные тригонометрические функции |\n",
        "| logical_not | Вычислить значение истинности not х для каждого элемента. Эквивалентно ~arr |"
      ]
    },
    {
      "cell_type": "markdown",
      "metadata": {
        "id": "LI0AH5EegBiF"
      },
      "source": [
        "### Векторизированные вычисления"
      ]
    },
    {
      "cell_type": "markdown",
      "metadata": {
        "id": "T8Wn0edOhKXR"
      },
      "source": [
        "Векторизированные вычисления позволяют заменить производимые в циклах операции на операции, применяемые к массивам поэлементно. Этот споспоб практически всегда более эффективен, чем его аналог, реализованный с использованием циклов Python, особенно при увеличении размера массивов. "
      ]
    },
    {
      "cell_type": "code",
      "metadata": {
        "id": "xSNQ2KFAhDoE",
        "colab": {
          "base_uri": "https://localhost:8080/"
        },
        "outputId": "769f7c6e-2712-4c48-ba2d-389d6735a2f0"
      },
      "source": [
        "x = np.linspace(-1, 1, 9).reshape((3, 3))\n",
        "y = np.linspace(-0.5, 1, 9).reshape((3, 3))\n",
        "z = np.sqrt(x ** 2 + y ** 2)\n",
        "\n",
        "print(x)\n",
        "print(y)\n",
        "print(z)"
      ],
      "execution_count": null,
      "outputs": [
        {
          "output_type": "stream",
          "name": "stdout",
          "text": [
            "[[-1.   -0.75 -0.5 ]\n",
            " [-0.25  0.    0.25]\n",
            " [ 0.5   0.75  1.  ]]\n",
            "[[-0.5    -0.3125 -0.125 ]\n",
            " [ 0.0625  0.25    0.4375]\n",
            " [ 0.625   0.8125  1.    ]]\n",
            "[[1.11803399 0.8125     0.5153882 ]\n",
            " [0.2576941  0.25       0.50389111]\n",
            " [0.80039053 1.10573788 1.41421356]]\n"
          ]
        }
      ]
    },
    {
      "cell_type": "markdown",
      "metadata": {
        "id": "AHXvAFdWi7DZ"
      },
      "source": [
        "### Математические и статистические операции"
      ]
    },
    {
      "cell_type": "markdown",
      "metadata": {
        "id": "5W66S0gfUtkZ"
      },
      "source": [
        "![alt text](https://drive.google.com/uc?id=1XvWjo9XCAS-CqSs0qKtrU-rZ4boW155k)"
      ]
    },
    {
      "cell_type": "code",
      "metadata": {
        "id": "nEwBfO9mNHQD",
        "colab": {
          "base_uri": "https://localhost:8080/"
        },
        "outputId": "d532fba4-9754-4456-dfc9-5c50066c55a2"
      },
      "source": [
        "arr = np.random.randn(5, 4)\n",
        "print('Исходная матрица:\\n', arr)\n",
        "print('Среднее значение:', arr.mean())\n",
        "print('Среднее значение:', np.mean(arr))\n",
        "print('Сумма элементов:', arr.sum())"
      ],
      "execution_count": null,
      "outputs": [
        {
          "output_type": "stream",
          "name": "stdout",
          "text": [
            "Исходная матрица:\n",
            " [[-0.13842199  0.70569237  1.27179528 -0.98674733]\n",
            " [-0.33483545 -0.0994817   0.4071921   0.91938754]\n",
            " [ 0.31211801  1.53316107 -0.55017387 -0.38314741]\n",
            " [-0.82294096  1.60008337 -0.0692813   0.08320949]\n",
            " [-0.32692468 -0.04579719 -0.30446006  1.92301013]]\n",
            "Среднее значение: 0.23467187125893174\n",
            "Среднее значение: 0.23467187125893174\n",
            "Сумма элементов: 4.693437425178635\n"
          ]
        }
      ]
    },
    {
      "cell_type": "code",
      "metadata": {
        "id": "UdU5nTndPGYq",
        "colab": {
          "base_uri": "https://localhost:8080/"
        },
        "outputId": "f2d844cd-56d7-4dbc-c5f9-3e8fb45e387c"
      },
      "source": [
        "print('Среднее значение по строкам:', arr.mean(axis=1))\n",
        "print('Среднее значение по столбцам:', arr.mean(axis=0))\n",
        "print('Сумма значений по столбцам:', arr.sum(axis=0))\n",
        "print('Сумма значений по строкам:', arr.sum(axis=1))"
      ],
      "execution_count": null,
      "outputs": [
        {
          "output_type": "stream",
          "name": "stdout",
          "text": [
            "Среднее значение по строкам: [0.21307958 0.22306562 0.22798945 0.19776765 0.31145705]\n",
            "Среднее значение по столбцам: [-0.26220101  0.73873158  0.15101443  0.31114248]\n",
            "Сумма значений по столбцам: [-1.31100507  3.69365792  0.75507215  1.55571242]\n",
            "Сумма значений по строкам: [0.85231833 0.89226249 0.9119578  0.7910706  1.24582821]\n"
          ]
        }
      ]
    },
    {
      "cell_type": "code",
      "metadata": {
        "id": "lIDGpZ6yPgTj",
        "colab": {
          "base_uri": "https://localhost:8080/"
        },
        "outputId": "4c930003-37c9-43dc-b800-f1277c1d62ed"
      },
      "source": [
        "arr = np.array([0, 1, 2, 3, 4, 5, 6, 7])\n",
        "print('Исходный массив:', arr)\n",
        "print('Сумма с промежуточными результатами:', arr.cumsum())"
      ],
      "execution_count": null,
      "outputs": [
        {
          "output_type": "stream",
          "name": "stdout",
          "text": [
            "Исходный массив: [0 1 2 3 4 5 6 7]\n",
            "Сумма с промежуточными результатами: [ 0  1  3  6 10 15 21 28]\n"
          ]
        }
      ]
    },
    {
      "cell_type": "code",
      "metadata": {
        "id": "r5fQTEivUXID",
        "colab": {
          "base_uri": "https://localhost:8080/"
        },
        "outputId": "be1fa0e2-66df-4227-911c-4628f5de1311"
      },
      "source": [
        "print('Индекс максимального элемента массива:', arr.argmax())"
      ],
      "execution_count": null,
      "outputs": [
        {
          "output_type": "stream",
          "name": "stdout",
          "text": [
            "Индекс максимального элемента массива: 7\n"
          ]
        }
      ]
    },
    {
      "cell_type": "markdown",
      "metadata": {
        "id": "baJudqW-VHXT"
      },
      "source": [
        "### Методы булевых массивов"
      ]
    },
    {
      "cell_type": "code",
      "metadata": {
        "id": "2RX-FV1uVBHw",
        "colab": {
          "base_uri": "https://localhost:8080/"
        },
        "outputId": "1bf5002b-11f0-42a1-a5c6-9288c66c13e2"
      },
      "source": [
        "arr = np.random.randn(5, 4)\n",
        "print('Исходная матрица\\n', arr)\n",
        "print('Количество положительных значений:', (arr > 0).sum())"
      ],
      "execution_count": null,
      "outputs": [
        {
          "output_type": "stream",
          "name": "stdout",
          "text": [
            "Исходная матрица\n",
            " [[-0.078659   -0.58206572 -1.61798224  0.86726082]\n",
            " [-1.04043709  0.65042142  2.69964586  0.80202451]\n",
            " [-1.09692126 -0.17805445 -0.42287048 -0.33040055]\n",
            " [-1.11116278 -0.74200575  2.57475919  1.07321332]\n",
            " [-1.86613451 -0.64717693  1.08224081  0.17667032]]\n",
            "Количество положительных значений: 8\n"
          ]
        }
      ]
    },
    {
      "cell_type": "code",
      "metadata": {
        "id": "lomLbF1cVacQ",
        "colab": {
          "base_uri": "https://localhost:8080/"
        },
        "outputId": "349ecb5f-57dd-4f2d-a178-ae07fd840c19"
      },
      "source": [
        "bool_arr = np.array([True, False, False])\n",
        "print('Все True:', bool_arr.all())\n",
        "print('Хотя бы один True:', bool_arr.any())"
      ],
      "execution_count": null,
      "outputs": [
        {
          "output_type": "stream",
          "name": "stdout",
          "text": [
            "Все True: False\n",
            "Хотя бы один True: True\n"
          ]
        }
      ]
    },
    {
      "cell_type": "markdown",
      "metadata": {
        "id": "ac4-kEy5V8y8"
      },
      "source": [
        "### Теоретико-множественные операции"
      ]
    },
    {
      "cell_type": "markdown",
      "metadata": {
        "id": "-G51c-GQWQNV"
      },
      "source": [
        "![alt text](https://drive.google.com/uc?id=1ziuzpdxlN4tPQwVBk0ij2GFN_0PK37hu)"
      ]
    },
    {
      "cell_type": "code",
      "metadata": {
        "id": "z0Dd0KmbVXNL",
        "colab": {
          "base_uri": "https://localhost:8080/"
        },
        "outputId": "25470e03-e3d2-4095-d29d-3a806ab96763"
      },
      "source": [
        "ints = np.array([3, 3, 3, 2, 2, 1, 1, 4, 4])\n",
        "np.unique(ints)"
      ],
      "execution_count": null,
      "outputs": [
        {
          "output_type": "execute_result",
          "data": {
            "text/plain": [
              "array([1, 2, 3, 4])"
            ]
          },
          "metadata": {},
          "execution_count": 60
        }
      ]
    },
    {
      "cell_type": "markdown",
      "metadata": {
        "id": "IDSN-RX5XA3a"
      },
      "source": [
        "### Линейная алгебра"
      ]
    },
    {
      "cell_type": "markdown",
      "metadata": {
        "id": "1nncU1OQXznU"
      },
      "source": [
        "![alt text](https://drive.google.com/uc?id=1gpvES_c1py_Ww3JKYq7v-HWidLp468pl)"
      ]
    },
    {
      "cell_type": "code",
      "metadata": {
        "id": "TywXpBp2W8Iz",
        "colab": {
          "base_uri": "https://localhost:8080/"
        },
        "outputId": "5da1a94e-b805-404a-b634-b62603ec4431"
      },
      "source": [
        "A = np.array([[1., 2., 3.], [4., 5., 6.]])\n",
        "B = np.array([[6., 23.], [-1, 7], [8, 9]])\n",
        "\n",
        "print('Матрица A')\n",
        "print(A)\n",
        "print('Матрица B')\n",
        "print(B)\n",
        "\n",
        "print('Произведение матриц A*B')\n",
        "print(A.dot(B))\n",
        "\n",
        "print('Произведение матриц A*B')\n",
        "print(np.dot(A, B))\n",
        "\n",
        "print('Произведение матриц A*B')\n",
        "print(A @ B)"
      ],
      "execution_count": null,
      "outputs": [
        {
          "output_type": "stream",
          "name": "stdout",
          "text": [
            "Матрица A\n",
            "[[1. 2. 3.]\n",
            " [4. 5. 6.]]\n",
            "Матрица B\n",
            "[[ 6. 23.]\n",
            " [-1.  7.]\n",
            " [ 8.  9.]]\n",
            "Произведение матриц A*B\n",
            "[[ 28.  64.]\n",
            " [ 67. 181.]]\n",
            "Произведение матриц A*B\n",
            "[[ 28.  64.]\n",
            " [ 67. 181.]]\n",
            "Произведение матриц A*B\n",
            "[[ 28.  64.]\n",
            " [ 67. 181.]]\n"
          ]
        }
      ]
    },
    {
      "cell_type": "code",
      "metadata": {
        "id": "lRxPys4RYa_k",
        "colab": {
          "base_uri": "https://localhost:8080/"
        },
        "outputId": "d6c10bc3-1ecd-458a-e952-7b83996b7556"
      },
      "source": [
        "X = np.random.randn(5, 5)\n",
        "print('Исходная матрица:')\n",
        "print(X)\n",
        "\n",
        "mat = X.T.dot(X)\n",
        "print('Матрица X_tr*X:')\n",
        "print(mat)"
      ],
      "execution_count": null,
      "outputs": [
        {
          "output_type": "stream",
          "name": "stdout",
          "text": [
            "Исходная матрица:\n",
            "[[-0.83532823 -1.69499832  1.13341723  1.04853072 -2.12832537]\n",
            " [-1.43713939  0.17793711  1.39442275  0.29132019 -0.08200619]\n",
            " [ 0.64424261  0.32807995  0.85743275 -0.93696928  0.18007496]\n",
            " [-1.42337059 -0.36775578 -1.52328799 -0.6347717   0.98740384]\n",
            " [-1.01601962  2.04572375  0.24999852  0.65116253 -1.26602354]]\n",
            "Матрица X_tr*X:\n",
            "[[ 6.23647114 -0.1835201  -0.48416064 -1.65624911  1.89257973]\n",
            " [-0.1835201   7.33254732 -0.32008839 -0.46728236  0.69893707]\n",
            " [-0.48416064 -0.32008839  6.34714589  1.92098791 -4.19283421]\n",
            " [-1.65624911 -0.46728236  1.92098791  2.88914331 -3.8753924 ]\n",
            " [ 1.89257973  0.69893707 -4.19283421 -3.8753924   7.14670284]]\n"
          ]
        }
      ]
    },
    {
      "cell_type": "code",
      "metadata": {
        "id": "w_SYv39_ZmC8",
        "colab": {
          "base_uri": "https://localhost:8080/"
        },
        "outputId": "b185f0e3-c6ec-48e0-fbdc-3c244d668d6e"
      },
      "source": [
        "print('Обратная матрица для X_tr*X:')\n",
        "print(np.linalg.inv(mat))"
      ],
      "execution_count": null,
      "outputs": [
        {
          "output_type": "stream",
          "name": "stdout",
          "text": [
            "Обратная матрица для X_tr*X:\n",
            "[[ 0.1933298   0.01183038 -0.01800019  0.14789284  0.01728213]\n",
            " [ 0.01183038  0.13858619 -0.00296623  0.02366561 -0.00559367]\n",
            " [-0.01800019 -0.00296623  0.26983939  0.10607632  0.22088776]\n",
            " [ 0.14789284  0.02366561  0.10607632  1.43800787  0.80053216]\n",
            " [ 0.01728213 -0.00559367  0.22088776  0.80053216  0.69958468]]\n"
          ]
        }
      ]
    },
    {
      "cell_type": "markdown",
      "metadata": {
        "id": "EgRLrXD1MsKu"
      },
      "source": [
        "### Генерация случайных чисел"
      ]
    },
    {
      "cell_type": "markdown",
      "metadata": {
        "id": "cqM6hxY_OEH1"
      },
      "source": [
        "![alt text](https://drive.google.com/uc?id=1Z36qj4Pxk_kITNINUFzXl03sZwyr7NEP)"
      ]
    },
    {
      "cell_type": "code",
      "metadata": {
        "id": "32W2UhJqNmQk",
        "colab": {
          "base_uri": "https://localhost:8080/"
        },
        "outputId": "6f66d115-7ff4-494d-bd7d-3a267e4a9ef3"
      },
      "source": [
        "samples = np.random.normal(size=(4, 4))\n",
        "print(samples)"
      ],
      "execution_count": null,
      "outputs": [
        {
          "output_type": "stream",
          "name": "stdout",
          "text": [
            "[[ 1.3741556  -0.60990513  0.03075795  0.81965668]\n",
            " [ 1.45431373 -0.58367645  0.41534745  0.66702578]\n",
            " [ 0.8694953  -1.20270333  2.86176918 -2.68159245]\n",
            " [-1.16881176 -0.58416422  0.8182497   1.59043723]]\n"
          ]
        }
      ]
    },
    {
      "cell_type": "markdown",
      "metadata": {
        "id": "n-Mz9MYjfGrx"
      },
      "source": [
        "## Файловый ввод-вывод массивов"
      ]
    },
    {
      "cell_type": "markdown",
      "metadata": {
        "id": "rQCn5vwreBYj"
      },
      "source": [
        "### Хранение на диске в двоичном формате"
      ]
    },
    {
      "cell_type": "code",
      "metadata": {
        "id": "1tgxSCvweE2i",
        "colab": {
          "base_uri": "https://localhost:8080/"
        },
        "outputId": "1f3d172c-937c-4170-fd6f-d74e8321fdbc"
      },
      "source": [
        "arr = np.arange(10)\n",
        "print('Сохраняем массив\\n', arr,'\\nв файл some_array.npy')\n",
        "np.save('some_array', arr)"
      ],
      "execution_count": null,
      "outputs": [
        {
          "output_type": "stream",
          "name": "stdout",
          "text": [
            "Сохраняем массив\n",
            " [0 1 2 3 4 5 6 7 8 9] \n",
            "в файл some_array.npy\n"
          ]
        }
      ]
    },
    {
      "cell_type": "code",
      "metadata": {
        "id": "2MWTgVDGeotU",
        "colab": {
          "base_uri": "https://localhost:8080/"
        },
        "outputId": "d96cfcbe-a600-4f1d-9134-cd855c9dd3a7"
      },
      "source": [
        "!ls"
      ],
      "execution_count": null,
      "outputs": [
        {
          "output_type": "stream",
          "name": "stdout",
          "text": [
            "sample_data  some_array.npy\n"
          ]
        }
      ]
    },
    {
      "cell_type": "code",
      "metadata": {
        "id": "vpD_SFdwfAPJ",
        "colab": {
          "base_uri": "https://localhost:8080/"
        },
        "outputId": "9c48f1bd-d52a-46a0-e74b-adec7a5d2ff0"
      },
      "source": [
        "new_arr = np.load('some_array.npy')\n",
        "print('Считываем данные из файла some_array.npy:\\n',new_arr)\n",
        "print('Тип:', type(new_arr))"
      ],
      "execution_count": null,
      "outputs": [
        {
          "output_type": "stream",
          "name": "stdout",
          "text": [
            "Считываем данные из файла some_array.npy:\n",
            " [0 1 2 3 4 5 6 7 8 9]\n",
            "Тип: <class 'numpy.ndarray'>\n"
          ]
        }
      ]
    },
    {
      "cell_type": "code",
      "metadata": {
        "id": "W8p4oS1BfZFS",
        "colab": {
          "base_uri": "https://localhost:8080/"
        },
        "outputId": "240c9942-8767-4314-bce7-926a35a8971b"
      },
      "source": [
        "arr_a = np.arange(10)\n",
        "arr_b = np.arange(10, 20)\n",
        "print('Сохраняем массивы\\n', arr_a, '\\n', arr_b, '\\nв файл some_array_ab.npz')\n",
        "np.savez('some_array_ab', a=arr_a, b = arr_b)"
      ],
      "execution_count": null,
      "outputs": [
        {
          "output_type": "stream",
          "name": "stdout",
          "text": [
            "Сохраняем массивы\n",
            " [0 1 2 3 4 5 6 7 8 9] \n",
            " [10 11 12 13 14 15 16 17 18 19] \n",
            "в файл some_array_ab.npz\n"
          ]
        }
      ]
    },
    {
      "cell_type": "code",
      "metadata": {
        "id": "ZXlab1Usf1Bm",
        "colab": {
          "base_uri": "https://localhost:8080/"
        },
        "outputId": "90858cb0-24eb-417d-cdfa-7aa6ac0f0df9"
      },
      "source": [
        "!ls"
      ],
      "execution_count": null,
      "outputs": [
        {
          "output_type": "stream",
          "name": "stdout",
          "text": [
            "sample_data  some_array_ab.npz\tsome_array.npy\n"
          ]
        }
      ]
    },
    {
      "cell_type": "code",
      "metadata": {
        "id": "kVCe6xy5f5V7",
        "colab": {
          "base_uri": "https://localhost:8080/"
        },
        "outputId": "2ed663c3-0902-491c-8d07-26edb0268bd0"
      },
      "source": [
        "new_arr = np.load('some_array_ab.npz')\n",
        "print('Считываем данные из файла some_array_ab.npz:\\n', new_arr['a'], new_arr['b'])\n",
        "print('Тип:', type(new_arr))"
      ],
      "execution_count": null,
      "outputs": [
        {
          "output_type": "stream",
          "name": "stdout",
          "text": [
            "Считываем данные из файла some_array_ab.npz:\n",
            " [0 1 2 3 4 5 6 7 8 9] [10 11 12 13 14 15 16 17 18 19]\n",
            "Тип: <class 'numpy.lib.npyio.NpzFile'>\n"
          ]
        }
      ]
    },
    {
      "cell_type": "markdown",
      "metadata": {
        "id": "1-NdMCH_eFZV"
      },
      "source": [
        "### Сохранение и загрузка текстовых файлов"
      ]
    },
    {
      "cell_type": "code",
      "metadata": {
        "id": "V2ZRIUPmeKG7",
        "colab": {
          "base_uri": "https://localhost:8080/"
        },
        "outputId": "f1676050-7524-4773-bedc-6db22855d755"
      },
      "source": [
        "arr = np.arange(12).reshape(3,4)\n",
        "print('Сохраняем массив\\n', arr,'\\nв файл some_array.txt')\n",
        "np.savetxt('some_array.txt', arr, delimiter=';')"
      ],
      "execution_count": null,
      "outputs": [
        {
          "output_type": "stream",
          "name": "stdout",
          "text": [
            "Сохраняем массив\n",
            " [[ 0  1  2  3]\n",
            " [ 4  5  6  7]\n",
            " [ 8  9 10 11]] \n",
            "в файл some_array.txt\n"
          ]
        }
      ]
    },
    {
      "cell_type": "code",
      "metadata": {
        "id": "LMnhvZtIggSW",
        "colab": {
          "base_uri": "https://localhost:8080/"
        },
        "outputId": "288d0acf-92a7-424a-9567-f8997ca1c897"
      },
      "source": [
        "!ls"
      ],
      "execution_count": null,
      "outputs": [
        {
          "output_type": "stream",
          "name": "stdout",
          "text": [
            "sample_data  some_array_ab.npz\tsome_array.npy\tsome_array.txt\n"
          ]
        }
      ]
    },
    {
      "cell_type": "code",
      "metadata": {
        "id": "SVsDfKzjgfgO",
        "colab": {
          "base_uri": "https://localhost:8080/"
        },
        "outputId": "96d4bfc6-2d8c-41b8-db5a-8e07171240b9"
      },
      "source": [
        "!cat some_array.txt"
      ],
      "execution_count": null,
      "outputs": [
        {
          "output_type": "stream",
          "name": "stdout",
          "text": [
            "0.000000000000000000e+00;1.000000000000000000e+00;2.000000000000000000e+00;3.000000000000000000e+00\n",
            "4.000000000000000000e+00;5.000000000000000000e+00;6.000000000000000000e+00;7.000000000000000000e+00\n",
            "8.000000000000000000e+00;9.000000000000000000e+00;1.000000000000000000e+01;1.100000000000000000e+01\n"
          ]
        }
      ]
    },
    {
      "cell_type": "code",
      "metadata": {
        "id": "RWvDz5ewgwVW",
        "colab": {
          "base_uri": "https://localhost:8080/"
        },
        "outputId": "3ee4e8c3-cefa-48d3-8221-943b07177df2"
      },
      "source": [
        "new_arr = np.loadtxt('some_array.txt', delimiter=';')\n",
        "print('Считываем данные из файла some_array.txt:\\n',new_arr)\n",
        "print('Тип:', type(new_arr))\n",
        "print('Размер:', new_arr.shape)"
      ],
      "execution_count": null,
      "outputs": [
        {
          "output_type": "stream",
          "name": "stdout",
          "text": [
            "Считываем данные из файла some_array.txt:\n",
            " [[ 0.  1.  2.  3.]\n",
            " [ 4.  5.  6.  7.]\n",
            " [ 8.  9. 10. 11.]]\n",
            "Тип: <class 'numpy.ndarray'>\n",
            "Размер: (3, 4)\n"
          ]
        }
      ]
    }
  ]
}